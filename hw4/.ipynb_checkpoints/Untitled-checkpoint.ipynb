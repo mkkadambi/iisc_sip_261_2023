{
 "cells": [
  {
   "cell_type": "code",
   "execution_count": 1,
   "id": "2e613507",
   "metadata": {},
   "outputs": [],
   "source": [
    "# /f/ (as in ‘cuff’), /s/ (as in ‘kiss’), \n",
    "# /ch/ (as in ‘church’), /v/ (as in ‘vivid’), \n",
    "# /z/ (as in ‘zoo’), and /j/ (as in ‘jam’).\n",
    "c = ['f', 's','ch','v','z','j']\n",
    "\n",
    "# V1 (as in Hid), V2 (as in Head), \n",
    "# V3 (as in Had), V4 (as in Hudd), \n",
    "# V5 (as in Hod), and V6 (as in Hood)\n",
    "v = ['v1', 'v2', 'v3', 'v4', 'v5', 'v6']\n",
    "\n",
    "v_dict ={'v1':'Hid', \n",
    "         'v2':'Head',\n",
    "         'v3':'Had',\n",
    "         'v4':'Hudd',\n",
    "         'v5':'Hod',\n",
    "         'v6': 'Hood'}\n",
    "\n"
   ]
  },
  {
   "cell_type": "code",
   "execution_count": 2,
   "id": "fc02104b",
   "metadata": {},
   "outputs": [],
   "source": [
    "import numpy as np\n"
   ]
  },
  {
   "cell_type": "code",
   "execution_count": 19,
   "id": "d649898a",
   "metadata": {},
   "outputs": [
    {
     "name": "stdout",
     "output_type": "stream",
     "text": [
      "(36, 2)\n"
     ]
    },
    {
     "data": {
      "text/plain": [
       "array([['f', 'v1'],\n",
       "       ['f', 'v2'],\n",
       "       ['f', 'v3'],\n",
       "       ['f', 'v4'],\n",
       "       ['f', 'v5'],\n",
       "       ['f', 'v6'],\n",
       "       ['s', 'v1'],\n",
       "       ['s', 'v2'],\n",
       "       ['s', 'v3'],\n",
       "       ['s', 'v4'],\n",
       "       ['s', 'v5'],\n",
       "       ['s', 'v6'],\n",
       "       ['ch', 'v1'],\n",
       "       ['ch', 'v2'],\n",
       "       ['ch', 'v3'],\n",
       "       ['ch', 'v4'],\n",
       "       ['ch', 'v5'],\n",
       "       ['ch', 'v6'],\n",
       "       ['v', 'v1'],\n",
       "       ['v', 'v2'],\n",
       "       ['v', 'v3'],\n",
       "       ['v', 'v4'],\n",
       "       ['v', 'v5'],\n",
       "       ['v', 'v6'],\n",
       "       ['z', 'v1'],\n",
       "       ['z', 'v2'],\n",
       "       ['z', 'v3'],\n",
       "       ['z', 'v4'],\n",
       "       ['z', 'v5'],\n",
       "       ['z', 'v6'],\n",
       "       ['j', 'v1'],\n",
       "       ['j', 'v2'],\n",
       "       ['j', 'v3'],\n",
       "       ['j', 'v4'],\n",
       "       ['j', 'v5'],\n",
       "       ['j', 'v6']], dtype='<U2')"
      ]
     },
     "execution_count": 19,
     "metadata": {},
     "output_type": "execute_result"
    }
   ],
   "source": [
    "what_to_name = np.array(np.meshgrid(c,v)).T.reshape((-1,2))\n",
    "print(what_to_name.shape)\n",
    "what_to_say = what_to_name.copy()\n",
    "what_to_name\n"
   ]
  },
  {
   "cell_type": "code",
   "execution_count": 20,
   "id": "f67910e9",
   "metadata": {},
   "outputs": [
    {
     "data": {
      "text/plain": [
       "array([['v1', 'f', 'v1'],\n",
       "       ['v2', 'f', 'v2'],\n",
       "       ['v3', 'f', 'v3'],\n",
       "       ['v4', 'f', 'v4'],\n",
       "       ['v5', 'f', 'v5'],\n",
       "       ['v6', 'f', 'v6'],\n",
       "       ['v1', 's', 'v1'],\n",
       "       ['v2', 's', 'v2'],\n",
       "       ['v3', 's', 'v3'],\n",
       "       ['v4', 's', 'v4'],\n",
       "       ['v5', 's', 'v5'],\n",
       "       ['v6', 's', 'v6'],\n",
       "       ['v1', 'ch', 'v1'],\n",
       "       ['v2', 'ch', 'v2'],\n",
       "       ['v3', 'ch', 'v3'],\n",
       "       ['v4', 'ch', 'v4'],\n",
       "       ['v5', 'ch', 'v5'],\n",
       "       ['v6', 'ch', 'v6'],\n",
       "       ['v1', 'v', 'v1'],\n",
       "       ['v2', 'v', 'v2'],\n",
       "       ['v3', 'v', 'v3'],\n",
       "       ['v4', 'v', 'v4'],\n",
       "       ['v5', 'v', 'v5'],\n",
       "       ['v6', 'v', 'v6'],\n",
       "       ['v1', 'z', 'v1'],\n",
       "       ['v2', 'z', 'v2'],\n",
       "       ['v3', 'z', 'v3'],\n",
       "       ['v4', 'z', 'v4'],\n",
       "       ['v5', 'z', 'v5'],\n",
       "       ['v6', 'z', 'v6'],\n",
       "       ['v1', 'j', 'v1'],\n",
       "       ['v2', 'j', 'v2'],\n",
       "       ['v3', 'j', 'v3'],\n",
       "       ['v4', 'j', 'v4'],\n",
       "       ['v5', 'j', 'v5'],\n",
       "       ['v6', 'j', 'v6']], dtype='<U2')"
      ]
     },
     "execution_count": 20,
     "metadata": {},
     "output_type": "execute_result"
    }
   ],
   "source": [
    "what_to_name = np.insert(what_to_name, 0, what_to_name[:,1],axis=1)\n",
    "\n",
    "what_to_name"
   ]
  },
  {
   "cell_type": "code",
   "execution_count": 33,
   "id": "cc2301f5",
   "metadata": {},
   "outputs": [
    {
     "data": {
      "text/plain": [
       "array([['Hid', 'f', 'Hid'],\n",
       "       ['Head', 'f', 'Head'],\n",
       "       ['Had', 'f', 'Had'],\n",
       "       ['Hudd', 'f', 'Hudd'],\n",
       "       ['Hod', 'f', 'Hod'],\n",
       "       ['Hood', 'f', 'Hood'],\n",
       "       ['Hid', 's', 'Hid'],\n",
       "       ['Head', 's', 'Head'],\n",
       "       ['Had', 's', 'Had'],\n",
       "       ['Hudd', 's', 'Hudd'],\n",
       "       ['Hod', 's', 'Hod'],\n",
       "       ['Hood', 's', 'Hood'],\n",
       "       ['Hid', 'ch', 'Hid'],\n",
       "       ['Head', 'ch', 'Head'],\n",
       "       ['Had', 'ch', 'Had'],\n",
       "       ['Hudd', 'ch', 'Hudd'],\n",
       "       ['Hod', 'ch', 'Hod'],\n",
       "       ['Hood', 'ch', 'Hood'],\n",
       "       ['Hid', 'v', 'Hid'],\n",
       "       ['Head', 'v', 'Head'],\n",
       "       ['Had', 'v', 'Had'],\n",
       "       ['Hudd', 'v', 'Hudd'],\n",
       "       ['Hod', 'v', 'Hod'],\n",
       "       ['Hood', 'v', 'Hood'],\n",
       "       ['Hid', 'z', 'Hid'],\n",
       "       ['Head', 'z', 'Head'],\n",
       "       ['Had', 'z', 'Had'],\n",
       "       ['Hudd', 'z', 'Hudd'],\n",
       "       ['Hod', 'z', 'Hod'],\n",
       "       ['Hood', 'z', 'Hood'],\n",
       "       ['Hid', 'j', 'Hid'],\n",
       "       ['Head', 'j', 'Head'],\n",
       "       ['Had', 'j', 'Had'],\n",
       "       ['Hudd', 'j', 'Hudd'],\n",
       "       ['Hod', 'j', 'Hod'],\n",
       "       ['Hood', 'j', 'Hood']], dtype='<U4')"
      ]
     },
     "execution_count": 33,
     "metadata": {},
     "output_type": "execute_result"
    }
   ],
   "source": [
    "map_to_dict = lambda x: v_dict.get(x, x)\n",
    "\n",
    "# list(map(map_to_dict,what_to_say))\n",
    "\n",
    "map_to_dict_vectorize = np.vectorize(map_to_dict)\n",
    "what_to_say = map_to_dict_vectorize(what_to_say)\n",
    "what_to_say=np.insert(what_to_say, 0, what_to_say[:,1],axis=1)\n",
    "what_to_say"
   ]
  },
  {
   "cell_type": "code",
   "execution_count": 34,
   "id": "1124e8bb",
   "metadata": {},
   "outputs": [
    {
     "name": "stdout",
     "output_type": "stream",
     "text": [
      "['v1' 'f' 'v1'] ['Hid' 'f' 'Hid']\n",
      "['v2' 'f' 'v2'] ['Head' 'f' 'Head']\n",
      "['v3' 'f' 'v3'] ['Had' 'f' 'Had']\n",
      "['v4' 'f' 'v4'] ['Hudd' 'f' 'Hudd']\n",
      "['v5' 'f' 'v5'] ['Hod' 'f' 'Hod']\n",
      "['v6' 'f' 'v6'] ['Hood' 'f' 'Hood']\n",
      "['v1' 's' 'v1'] ['Hid' 's' 'Hid']\n",
      "['v2' 's' 'v2'] ['Head' 's' 'Head']\n",
      "['v3' 's' 'v3'] ['Had' 's' 'Had']\n",
      "['v4' 's' 'v4'] ['Hudd' 's' 'Hudd']\n",
      "['v5' 's' 'v5'] ['Hod' 's' 'Hod']\n",
      "['v6' 's' 'v6'] ['Hood' 's' 'Hood']\n",
      "['v1' 'ch' 'v1'] ['Hid' 'ch' 'Hid']\n",
      "['v2' 'ch' 'v2'] ['Head' 'ch' 'Head']\n",
      "['v3' 'ch' 'v3'] ['Had' 'ch' 'Had']\n",
      "['v4' 'ch' 'v4'] ['Hudd' 'ch' 'Hudd']\n",
      "['v5' 'ch' 'v5'] ['Hod' 'ch' 'Hod']\n",
      "['v6' 'ch' 'v6'] ['Hood' 'ch' 'Hood']\n",
      "['v1' 'v' 'v1'] ['Hid' 'v' 'Hid']\n",
      "['v2' 'v' 'v2'] ['Head' 'v' 'Head']\n",
      "['v3' 'v' 'v3'] ['Had' 'v' 'Had']\n",
      "['v4' 'v' 'v4'] ['Hudd' 'v' 'Hudd']\n",
      "['v5' 'v' 'v5'] ['Hod' 'v' 'Hod']\n",
      "['v6' 'v' 'v6'] ['Hood' 'v' 'Hood']\n",
      "['v1' 'z' 'v1'] ['Hid' 'z' 'Hid']\n",
      "['v2' 'z' 'v2'] ['Head' 'z' 'Head']\n",
      "['v3' 'z' 'v3'] ['Had' 'z' 'Had']\n",
      "['v4' 'z' 'v4'] ['Hudd' 'z' 'Hudd']\n",
      "['v5' 'z' 'v5'] ['Hod' 'z' 'Hod']\n",
      "['v6' 'z' 'v6'] ['Hood' 'z' 'Hood']\n",
      "['v1' 'j' 'v1'] ['Hid' 'j' 'Hid']\n",
      "['v2' 'j' 'v2'] ['Head' 'j' 'Head']\n",
      "['v3' 'j' 'v3'] ['Had' 'j' 'Had']\n",
      "['v4' 'j' 'v4'] ['Hudd' 'j' 'Hudd']\n",
      "['v5' 'j' 'v5'] ['Hod' 'j' 'Hod']\n",
      "['v6' 'j' 'v6'] ['Hood' 'j' 'Hood']\n"
     ]
    }
   ],
   "source": [
    "for file_name, pronounciation in zip(what_to_name, what_to_say):\n",
    "    \n",
    "    print(file_name, pronounciation)"
   ]
  },
  {
   "cell_type": "code",
   "execution_count": null,
   "id": "c450c9cc",
   "metadata": {},
   "outputs": [],
   "source": []
  }
 ],
 "metadata": {
  "kernelspec": {
   "display_name": "Python 3 (ipykernel)",
   "language": "python",
   "name": "python3"
  },
  "language_info": {
   "codemirror_mode": {
    "name": "ipython",
    "version": 3
   },
   "file_extension": ".py",
   "mimetype": "text/x-python",
   "name": "python",
   "nbconvert_exporter": "python",
   "pygments_lexer": "ipython3",
   "version": "3.9.16"
  }
 },
 "nbformat": 4,
 "nbformat_minor": 5
}
